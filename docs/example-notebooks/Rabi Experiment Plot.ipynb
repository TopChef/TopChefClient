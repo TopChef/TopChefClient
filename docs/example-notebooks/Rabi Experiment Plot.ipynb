{
 "cells": [
  {
   "cell_type": "markdown",
   "metadata": {},
   "source": [
    "# Running a Remote Rabi Experiment Series"
   ]
  },
  {
   "cell_type": "markdown",
   "metadata": {},
   "source": [
    "The notebook below shows how to run a Rabi experiment, plotting the results into a Rabi frequency curve. The experiment requires a TopChef service to be active"
   ]
  },
  {
   "cell_type": "markdown",
   "metadata": {},
   "source": [
    "Add this project's base directory to the path. Make sure that the TopChef client is available and importable"
   ]
  },
  {
   "cell_type": "code",
   "execution_count": null,
   "metadata": {
    "collapsed": true
   },
   "outputs": [],
   "source": [
    "import sys\n",
    "import os\n",
    "\n",
    "sys.path.append(os.path.abspath('../../..'))"
   ]
  },
  {
   "cell_type": "markdown",
   "metadata": {},
   "source": [
    "Import the required modules to run the experiment"
   ]
  },
  {
   "cell_type": "code",
   "execution_count": null,
   "metadata": {
    "scrolled": true
   },
   "outputs": [],
   "source": [
    "from topchef_client import Client, Service, Job\n",
    "from time import sleep\n",
    "from datetime import datetime\n",
    "import matplotlib.pyplot as plt\n",
    "from collections.abc import Iterator\n",
    "import numpy as np\n",
    "from copy import deepcopy\n",
    "import unittest\n",
    "import unittest.mock as mock\n",
    "from typing import Iterable, Dict, Union"
   ]
  },
  {
   "cell_type": "markdown",
   "metadata": {},
   "source": [
    "Render matplotlib plots inline"
   ]
  },
  {
   "cell_type": "code",
   "execution_count": null,
   "metadata": {
    "collapsed": true
   },
   "outputs": [],
   "source": [
    "% matplotlib inline"
   ]
  },
  {
   "cell_type": "markdown",
   "metadata": {},
   "source": [
    "## Experiment Runner"
   ]
  },
  {
   "cell_type": "markdown",
   "metadata": {},
   "source": [
    "Define an experiment runner as sweeping between different pulse times in the pulse time parameter space"
   ]
  },
  {
   "cell_type": "code",
   "execution_count": null,
   "metadata": {},
   "outputs": [],
   "source": [
    "class ExperimentRunner(Iterator):\n",
    "    \"\"\"\n",
    "    Run several Rabi experiments, iterating over equally spaced intervals in the pulse\n",
    "    time parameter space. This class accepts a minimum pulse time, a maximum pulse time,\n",
    "    and the number of points to iterate over. Iterating over the runner will\n",
    "    result in the experiments running\n",
    "    \"\"\"\n",
    "    def __init__(\n",
    "            self, \n",
    "            topchef_service: Service, \n",
    "            min_time: float=1e-14, \n",
    "            max_time: float=500e-9, \n",
    "            number_of_repetitions: int=50000, \n",
    "            number_of_points: int=100\n",
    "    ) -> None:\n",
    "        \"\"\"\n",
    "        Initialize the experiment\n",
    "        \n",
    "        :param TopChefService topchef_service: The service to use for running\n",
    "            multiple experiments\n",
    "        :param min_time: The minimum pulse time to use\n",
    "        :param max_time: The maximum pulse time\n",
    "        :param number_of_repetitions: The number of times that each experiment is to be repeated.\n",
    "            The count number is the sum of photon counts received from the experiment\n",
    "        :param number_of_points: The number of data points to use\n",
    "        \"\"\"\n",
    "        self.min_time = min_time\n",
    "        self.max_time = max_time\n",
    "        self.number_of_points = number_of_points\n",
    "        self.number_of_repetitions = number_of_repetitions\n",
    "        \n",
    "        self.last_iterated_index = 0\n",
    "        \n",
    "        self._topchef_service = topchef_service\n",
    "        \n",
    "    @property\n",
    "    def parameter_space(self) -> Iterable:\n",
    "        \"\"\"\n",
    "        \n",
    "        :return: The array of points that should be iterated over\n",
    "        \"\"\"\n",
    "        return np.linspace(self.min_time, self.max_time, self.number_of_points)\n",
    "    \n",
    "    @property\n",
    "    def experiment_parameters(self) -> Dict[str, Union[str, int, float]]:\n",
    "        \"\"\"\n",
    "        \n",
    "        :return: The experiment parameters for the current experiment. The current\n",
    "            experiment is determined by the last_iterated index\n",
    "        \"\"\"\n",
    "        pulse_time = self.parameter_space[self.last_iterated_index]\n",
    "        number_of_repetitions = self.number_of_repetitions\n",
    "        \n",
    "        return {\n",
    "            'pulse_time': pulse_time,\n",
    "            'number_of_repetitions': number_of_repetitions,\n",
    "            'type': 'RABI'\n",
    "        }\n",
    "    \n",
    "    def reset_iterator(self) -> None:\n",
    "        \"\"\"\n",
    "        Prepare this object for iteration\n",
    "        \"\"\"\n",
    "        self.last_iterated_index = 0\n",
    "    \n",
    "    @staticmethod\n",
    "    def wait_until_job_done(job: Job) -> None:\n",
    "        \"\"\"\n",
    "        Wait until the job is complete\n",
    "        \"\"\"\n",
    "        while not job.is_complete:\n",
    "            sleep(0.01)\n",
    "    \n",
    "    def __iter__(self) -> 'ExperimentRunner':\n",
    "        \"\"\"\n",
    "        \n",
    "        :return: An iterator that will iterate over the experiments in the parameter space\n",
    "        \"\"\"\n",
    "        self.reset_iterator()\n",
    "        return self\n",
    "        \n",
    "    def __len__(self) -> int:\n",
    "        \"\"\"\n",
    "        \n",
    "        :return: The number of data points in the experiment space\n",
    "        \"\"\"\n",
    "        return len(self.parameter_space)\n",
    "    \n",
    "    def __next__(self) -> Dict[str, Union[str, int, float]]:\n",
    "        \"\"\"\n",
    "        Increment the last_iterated_index, run the next experiment, wait for it\n",
    "        to finish, and return the results\n",
    "        \n",
    "        :return: The results for one experiment\n",
    "        \"\"\"\n",
    "        if self.last_iterated_index == len(self):\n",
    "            raise StopIteration()\n",
    "        else:\n",
    "            print('Running experiment %s/%s' % (self.last_iterated_index + 1, len(self)))\n",
    "            job = self._topchef_service.new_job(self.experiment_parameters)\n",
    "            self.wait_until_job_done(job)\n",
    "            self.last_iterated_index += 1\n",
    "            return job.result\n",
    "            "
   ]
  },
  {
   "cell_type": "markdown",
   "metadata": {},
   "source": [
    "Define the experiment Parameters"
   ]
  },
  {
   "cell_type": "markdown",
   "metadata": {},
   "source": [
    "## Run the thing we defined"
   ]
  },
  {
   "cell_type": "code",
   "execution_count": null,
   "metadata": {
    "collapsed": true
   },
   "outputs": [],
   "source": [
    "server_url = 'http://129.97.136.225:5000'\n",
    "service_id = '1b98639a-6276-11e7-b3a3-0242ac110002'"
   ]
  },
  {
   "cell_type": "code",
   "execution_count": null,
   "metadata": {
    "collapsed": true
   },
   "outputs": [],
   "source": [
    "client = Client(server_url)\n",
    "service = client.services[service_id]"
   ]
  },
  {
   "cell_type": "code",
   "execution_count": null,
   "metadata": {
    "collapsed": true
   },
   "outputs": [],
   "source": [
    "experiment_series = ExperimentRunner(service)"
   ]
  },
  {
   "cell_type": "markdown",
   "metadata": {},
   "source": [
    "Burn baby burn!"
   ]
  },
  {
   "cell_type": "code",
   "execution_count": null,
   "metadata": {},
   "outputs": [],
   "source": [
    "results = [result for result in experiment_series]"
   ]
  },
  {
   "cell_type": "code",
   "execution_count": null,
   "metadata": {},
   "outputs": [],
   "source": [
    "for result in results:\n",
    "    print(result)"
   ]
  },
  {
   "cell_type": "markdown",
   "metadata": {},
   "source": [
    "## Plot the Results"
   ]
  },
  {
   "cell_type": "code",
   "execution_count": null,
   "metadata": {
    "collapsed": true
   },
   "outputs": [],
   "source": [
    "light_counts = [result[\"light_count\"] for result in results]\n",
    "dark_counts = [result[\"dark_count\"] for result in results]\n",
    "result_counts = [result[\"result_count\"] for result in results]\n",
    "parameter_space = experiment_series.parameter_space"
   ]
  },
  {
   "cell_type": "code",
   "execution_count": null,
   "metadata": {},
   "outputs": [],
   "source": [
    "plt.figure(figsize=(15,6))\n",
    "plt.plot(parameter_space, light_counts, label='light reference')\n",
    "plt.plot(parameter_space, dark_counts, label='dark reference')\n",
    "plt.plot(parameter_space, result_counts, label='experiment')\n",
    "plt.legend()\n",
    "\n",
    "plt.show()"
   ]
  },
  {
   "cell_type": "markdown",
   "metadata": {},
   "source": [
    "### Test the class defined above"
   ]
  },
  {
   "cell_type": "code",
   "execution_count": null,
   "metadata": {},
   "outputs": [],
   "source": [
    "class TestExperimentRunner(unittest.TestCase):\n",
    "    \"\"\"\n",
    "    Contains unit tests for the experiment runner\n",
    "    \"\"\"\n",
    "    def setUp(self):\n",
    "        \"\"\"\n",
    "        Set up unit testing\n",
    "        \"\"\"\n",
    "        self.service = mock.MagicMock()\n",
    "        self.experiment = ExperimentRunner(self.service)\n",
    "        self.experiment.wait_until_job_done = lambda x: x\n",
    "    \n",
    "    def test_parameter_mutation(self):\n",
    "        \"\"\"\n",
    "        Test that changing the parameters changes the\n",
    "        parameter space, and that changing the number of \n",
    "        points changes the length of the experiment series\n",
    "        \"\"\"\n",
    "        self.experiment.min_time = 1e-11\n",
    "        self.experiment.max_time = 500e-9\n",
    "        self.experiment.number_of_points = 100\n",
    "        \n",
    "        self.assertEqual(len(self.experiment), 100)\n",
    "        print('test passed')\n",
    "        \n",
    "    def test_parameter_space(self):\n",
    "        \"\"\"\n",
    "        Visual test to check that changing the parameter space\n",
    "        changes the experiment series that are displayed\n",
    "        \"\"\"\n",
    "        self.experiment.min_time = 0\n",
    "        self.experiment.max_time = 500e-9\n",
    "        self.experiment.number_of_points = 100\n",
    "        print(self.experiment.parameter_space)\n",
    "        \n",
    "        self.experiment.min_time = -100\n",
    "        print(self.experiment.parameter_space)\n",
    "        \n",
    "    def test_parameter_display(self):\n",
    "        \"\"\"\n",
    "        Tests that the for loop works correctly\n",
    "        \"\"\"\n",
    "        results = [result for result in self.experiment]\n",
    "\n",
    "case = TestExperimentRunner()\n",
    "case.setUp()\n",
    "case.test_parameter_mutation()\n",
    "case.setUp()\n",
    "case.test_parameter_display()"
   ]
  },
  {
   "cell_type": "code",
   "execution_count": null,
   "metadata": {
    "scrolled": true
   },
   "outputs": [],
   "source": [
    "case = TestExperimentRunner()\n",
    "case.setUp()\n",
    "case.test_parameter_space()"
   ]
  }
 ],
 "metadata": {
  "kernelspec": {
   "display_name": "Python 3",
   "language": "python",
   "name": "python3"
  },
  "language_info": {
   "codemirror_mode": {
    "name": "ipython",
    "version": 3
   },
   "file_extension": ".py",
   "mimetype": "text/x-python",
   "name": "python",
   "nbconvert_exporter": "python",
   "pygments_lexer": "ipython3",
   "version": "3.5.3"
  }
 },
 "nbformat": 4,
 "nbformat_minor": 1
}
