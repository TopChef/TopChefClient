{
 "cells": [
  {
   "cell_type": "markdown",
   "metadata": {
    "collapsed": false
   },
   "source": [
    "# Running a Remote Ramsey Experiment"
   ]
  },
  {
   "cell_type": "markdown",
   "metadata": {},
   "source": [
    "The notebook below shows how to run a Ramsey experiment using the TopChef client API."
   ]
  },
  {
   "cell_type": "markdown",
   "metadata": {},
   "source": [
    "Add this project's base directory to the path. Make sure that the TopChef client is available and importable"
   ]
  },
  {
   "cell_type": "code",
   "execution_count": 1,
   "metadata": {
    "collapsed": true
   },
   "outputs": [],
   "source": [
    "import sys\n",
    "import os\n",
    "\n",
    "sys.path.append(os.path.abspath('../../..'))"
   ]
  },
  {
   "cell_type": "markdown",
   "metadata": {},
   "source": [
    "Import the required modules to run the experiment"
   ]
  },
  {
   "cell_type": "code",
   "execution_count": 2,
   "metadata": {
    "collapsed": true
   },
   "outputs": [],
   "source": [
    "from topchef_client import Client\n",
    "from time import sleep\n",
    "from datetime import datetime"
   ]
  },
  {
   "cell_type": "markdown",
   "metadata": {},
   "source": [
    "Define a small subroutine to wait until a job is done"
   ]
  },
  {
   "cell_type": "code",
   "execution_count": 3,
   "metadata": {
    "collapsed": true
   },
   "outputs": [],
   "source": [
    "def wait_until_job_done(job):\n",
    "    \"\"\"\n",
    "    A small subroutine that waits until the job is finished. This can be\n",
    "    replaced with something more advanced, and is dependent on the\n",
    "    implementation. The onus is on the consumer of the TopChef API to\n",
    "    only get results after the job finishes\n",
    "    \"\"\"\n",
    "    while not job.is_complete:\n",
    "        sleep(0.01)"
   ]
  },
  {
   "cell_type": "markdown",
   "metadata": {},
   "source": [
    "Define the experiment Parameters"
   ]
  },
  {
   "cell_type": "code",
   "execution_count": 4,
   "metadata": {
    "collapsed": true
   },
   "outputs": [],
   "source": [
    "experiment_parameters = {\n",
    "    'pulse_time': 10e-9,\n",
    "    'wait_time': 1e-6,\n",
    "    'pulse_phase': 0,\n",
    "    'number_of_repetitions': 50000,\n",
    "    'type': 'RAMSEY'\n",
    "}\n",
    "server_url = 'http://129.97.136.225:5000'\n",
    "service_id = '1b98639a-6276-11e7-b3a3-0242ac110002'"
   ]
  },
  {
   "cell_type": "code",
   "execution_count": 5,
   "metadata": {
    "collapsed": true
   },
   "outputs": [],
   "source": [
    "client = Client(server_url)\n",
    "service = client.services[service_id]"
   ]
  },
  {
   "cell_type": "code",
   "execution_count": 6,
   "metadata": {
    "collapsed": false
   },
   "outputs": [
    {
     "name": "stdout",
     "output_type": "stream",
     "text": [
      "{'light_count': 62, 'result_count': 59, 'dark_count': 65}\n"
     ]
    }
   ],
   "source": [
    "start = datetime.utcnow()\n",
    "job = service.new_job(experiment_parameters)\n",
    "wait_until_job_done(job)\n",
    "print(job.result)\n",
    "finish = datetime.utcnow()"
   ]
  },
  {
   "cell_type": "code",
   "execution_count": 7,
   "metadata": {
    "collapsed": false
   },
   "outputs": [
    {
     "name": "stdout",
     "output_type": "stream",
     "text": [
      "3.854757\n"
     ]
    }
   ],
   "source": [
    "print((finish - start).total_seconds())"
   ]
  },
  {
   "cell_type": "code",
   "execution_count": null,
   "metadata": {
    "collapsed": true
   },
   "outputs": [],
   "source": []
  }
 ],
 "metadata": {
  "kernelspec": {
   "display_name": "Python 3",
   "language": "python",
   "name": "python3"
  },
  "language_info": {
   "codemirror_mode": {
    "name": "ipython",
    "version": 3
   },
   "file_extension": ".py",
   "mimetype": "text/x-python",
   "name": "python",
   "nbconvert_exporter": "python",
   "pygments_lexer": "ipython3",
   "version": "3.5.3"
  }
 },
 "nbformat": 4,
 "nbformat_minor": 0
}
